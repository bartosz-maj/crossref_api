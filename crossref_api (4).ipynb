{
  "nbformat": 4,
  "nbformat_minor": 0,
  "metadata": {
    "colab": {
      "provenance": []
    },
    "kernelspec": {
      "name": "python3",
      "display_name": "Python 3"
    },
    "language_info": {
      "name": "python"
    }
  },
  "cells": [
    {
      "cell_type": "markdown",
      "source": [
        "crossref docs: https://github.com/CrossRef/rest-api-doc#readme\n",
        "crossref py: https://github.com/fabiobatalha/crossrefapi\n",
        "crossref R: https://github.com/ropensci/rcrossref\n"
      ],
      "metadata": {
        "id": "l_cz9U1_tPDc"
      }
    },
    {
      "cell_type": "markdown",
      "source": [
        "APIs used list: https://www.crossref.org/  \n",
        "\n",
        "Possible: importing data into zotero?"
      ],
      "metadata": {
        "id": "37KGfeskwwbY"
      }
    },
    {
      "cell_type": "code",
      "execution_count": 2,
      "metadata": {
        "colab": {
          "base_uri": "https://localhost:8080/"
        },
        "id": "_yp4XBlRY8kT",
        "outputId": "dc1f53cf-1705-4e40-995a-c755f665783d"
      },
      "outputs": [
        {
          "output_type": "stream",
          "name": "stdout",
          "text": [
            "Collecting crossrefapi\n",
            "  Downloading crossrefapi-1.6.0-py3-none-any.whl (14 kB)\n",
            "Requirement already satisfied: requests<3.0.0,>=2.31.0 in /usr/local/lib/python3.10/dist-packages (from crossrefapi) (2.31.0)\n",
            "Collecting urllib3==1.26.16 (from crossrefapi)\n",
            "  Downloading urllib3-1.26.16-py2.py3-none-any.whl (143 kB)\n",
            "\u001b[2K     \u001b[90m━━━━━━━━━━━━━━━━━━━━━━━━━━━━━━━━━━━━━━━━\u001b[0m \u001b[32m143.1/143.1 kB\u001b[0m \u001b[31m3.6 MB/s\u001b[0m eta \u001b[36m0:00:00\u001b[0m\n",
            "\u001b[?25hRequirement already satisfied: charset-normalizer<4,>=2 in /usr/local/lib/python3.10/dist-packages (from requests<3.0.0,>=2.31.0->crossrefapi) (3.3.2)\n",
            "Requirement already satisfied: idna<4,>=2.5 in /usr/local/lib/python3.10/dist-packages (from requests<3.0.0,>=2.31.0->crossrefapi) (3.4)\n",
            "Requirement already satisfied: certifi>=2017.4.17 in /usr/local/lib/python3.10/dist-packages (from requests<3.0.0,>=2.31.0->crossrefapi) (2023.7.22)\n",
            "Installing collected packages: urllib3, crossrefapi\n",
            "  Attempting uninstall: urllib3\n",
            "    Found existing installation: urllib3 2.0.7\n",
            "    Uninstalling urllib3-2.0.7:\n",
            "      Successfully uninstalled urllib3-2.0.7\n",
            "Successfully installed crossrefapi-1.6.0 urllib3-1.26.16\n"
          ]
        }
      ],
      "source": [
        "pip install crossrefapi"
      ]
    },
    {
      "cell_type": "code",
      "source": [
        "from urllib.request import urlopen"
      ],
      "metadata": {
        "id": "TKmSq7iUfmiE"
      },
      "execution_count": 3,
      "outputs": []
    },
    {
      "cell_type": "code",
      "source": [
        "from crossref.restful import Works"
      ],
      "metadata": {
        "id": "HLl7eHZPY9SD"
      },
      "execution_count": 4,
      "outputs": []
    },
    {
      "cell_type": "code",
      "source": [
        "import json"
      ],
      "metadata": {
        "id": "npSfFfpaf1Q6"
      },
      "execution_count": 5,
      "outputs": []
    },
    {
      "cell_type": "code",
      "source": [
        "import pandas as pd"
      ],
      "metadata": {
        "id": "5K6j4eLbdytx"
      },
      "execution_count": 6,
      "outputs": []
    },
    {
      "cell_type": "code",
      "source": [
        "from tqdm import tqdm"
      ],
      "metadata": {
        "id": "roMqnfoyt7SL"
      },
      "execution_count": 7,
      "outputs": []
    },
    {
      "cell_type": "code",
      "source": [
        "class return_articles():\n",
        "  def __init__(self, query_term, year):\n",
        "    self.query_term = query_term\n",
        "    self.year = year\n",
        "\n",
        "  def generate_output_list(self):\n",
        "    print(\"--- Generating Unfiltered Output ------------------\")\n",
        "    output_list = []\n",
        "    works = Works()\n",
        "    start_date = self.year + \"-01-01\"\n",
        "    end_date = self.year + \"-12-31\"\n",
        "    query = works.query(self.query_term).filter(type = \"journal-article\", from_online_pub_date= start_date, until_online_pub_date = end_date)\n",
        "    print(\"Total number of query results: \" + str(query.count()))\n",
        "    for item in tqdm(query):\n",
        "      output_list.append(item)\n",
        "    return output_list\n",
        "\n",
        "  def generate_output_titles(self, input_list):\n",
        "    print(\"--- Generating Filtered Output --------------------\")\n",
        "    output_titles = []\n",
        "    output_json = []\n",
        "    for i in input_list:\n",
        "      if \"title\" in i.keys() and self.query_term in i[\"title\"][0].lower():\n",
        "        output_titles.append(i[\"title\"][0])\n",
        "        output_json.append(i)\n",
        "\n",
        "    return output_json\n",
        "\n",
        "  def generate_output_df(self, filtered_json, required_elements):\n",
        "    print(\"--- Generating Dataframe --------------------------\")\n",
        "    dict_list = []\n",
        "    for i in range(0, len(filtered_json)):\n",
        "      edited_json = dict.fromkeys(required_elements)\n",
        "      for j in required_elements:\n",
        "        edited_json[j] = filtered_json[i][j]\n",
        "\n",
        "      dict_list.append(edited_json)\n",
        "    df = pd.DataFrame.from_records(dict_list)\n",
        "\n",
        "    df.to_csv(self.query_term + \" \" + self.year + \" df.csv\", index = False)\n",
        "\n",
        "    return df\n"
      ],
      "metadata": {
        "id": "isPpUctMla9B"
      },
      "execution_count": 133,
      "outputs": []
    },
    {
      "cell_type": "code",
      "source": [
        "years = [\"2022\", \"2021\", \"2020\"]"
      ],
      "metadata": {
        "id": "8GqRKsM5wqy0"
      },
      "execution_count": 138,
      "outputs": []
    },
    {
      "cell_type": "code",
      "source": [
        "for i in years:\n",
        "  print(\"Generating for: \" + i)\n",
        "  articles_gen = return_articles(\"access to data\", i)\n",
        "  unfiltered_json = articles_gen.generate_output_list()\n",
        "  filtered_json = articles_gen.generate_output_titles(unfiltered_json)\n",
        "  print(str(len(filtered_json)) + \" filtered results in the year: \" + i)\n",
        "  output_df = articles_gen.generate_output_df(filtered_json, [\"title\", \"DOI\", \"publisher\"])"
      ],
      "metadata": {
        "colab": {
          "base_uri": "https://localhost:8080/"
        },
        "id": "43i5w5SU4C2r",
        "outputId": "69e929f9-f1be-4329-cc60-d5bbc2533d19"
      },
      "execution_count": null,
      "outputs": [
        {
          "output_type": "stream",
          "name": "stdout",
          "text": [
            "Generating for: 2022\n",
            "--- Generating Unfiltered Output ------------------\n",
            "Total number of query results: 66612\n"
          ]
        },
        {
          "output_type": "stream",
          "name": "stderr",
          "text": [
            "42001it [11:22, 43.09it/s]"
          ]
        }
      ]
    },
    {
      "cell_type": "code",
      "source": [
        "works = Works()\n",
        "query = works.query(\"access to data\").filter(type = \"journal-article\", from_online_pub_date= \"2023-01-01\", until_online_pub_date = \"2023-12-31\").url"
      ],
      "metadata": {
        "id": "4t6nL3jKNLJW"
      },
      "execution_count": 122,
      "outputs": []
    },
    {
      "cell_type": "code",
      "source": [
        "query"
      ],
      "metadata": {
        "colab": {
          "base_uri": "https://localhost:8080/",
          "height": 52
        },
        "id": "nmGOjd2Ncqjg",
        "outputId": "89c6f3cd-52a3-4db1-aaeb-8950641b633e"
      },
      "execution_count": 123,
      "outputs": [
        {
          "output_type": "execute_result",
          "data": {
            "text/plain": [
              "'https://api.crossref.org/works?filter=type%3Ajournal-article%2Cfrom-online-pub-date%3A2023-01-01%2Cuntil-online-pub-date%3A2023-12-31&query=access+to+data'"
            ],
            "application/vnd.google.colaboratory.intrinsic+json": {
              "type": "string"
            }
          },
          "metadata": {},
          "execution_count": 123
        }
      ]
    },
    {
      "cell_type": "code",
      "source": [],
      "metadata": {
        "id": "hVBd6-PScrL8"
      },
      "execution_count": null,
      "outputs": []
    }
  ]
}